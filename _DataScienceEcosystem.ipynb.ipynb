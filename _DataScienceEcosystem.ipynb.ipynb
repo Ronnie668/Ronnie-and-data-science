{
 "cells": [
  {
   "cell_type": "markdown",
   "id": "c54159a9-0e73-4ca4-a733-c76bb314d6e3",
   "metadata": {},
   "source": [
    "# Data Science Tools and Ecosystem\n"
   ]
  },
  {
   "cell_type": "markdown",
   "id": "66ec18ea-cdf2-47b5-b78d-945acf70b106",
   "metadata": {},
   "source": [
    "# Introduction \n",
    "\n",
    "In this notebook, Data Science Tools and Ecosystem are summarized.\n",
    "\n",
    "**Objectives:**\n",
    "- List popular languages for data science.\n",
    "- List common libraries used in data science.\n",
    "- Perform basic arithmetic operations in Python.\n",
    "\n"
   ]
  },
  {
   "cell_type": "markdown",
   "id": "be820b4c-515f-4741-8a35-99bf636f9411",
   "metadata": {
    "tags": []
   },
   "source": [
    "## Some of the popular languages that Data Scientists use are:\n",
    "1. **R**\n",
    "\n",
    "2. **python**\n",
    "\n",
    "3. **Java** "
   ]
  },
  {
   "cell_type": "markdown",
   "id": "8e8e3b91-352c-4b55-80c3-b5264448e73d",
   "metadata": {},
   "source": [
    "## Some of the commonly used libraries used by Data Scientists include:\n",
    "\n",
    "1. *Pandas*\n",
    "2. *Numpy*\n",
    "3. *TensorFlow*"
   ]
  },
  {
   "cell_type": "markdown",
   "id": "54739f27-9880-4e35-b7da-240a11876eb2",
   "metadata": {},
   "source": [
    "|Data Science Tools|\n",
    "|------------------|\n",
    "|Jupyter Notebooks|\n",
    "|Rstudio |\n",
    "|VS Code|"
   ]
  },
  {
   "cell_type": "markdown",
   "id": "cf7ce753-3fcc-44bd-a598-266e84476d1a",
   "metadata": {},
   "source": [
    "### Below are a few examples of evaluating arithmetic expressions in Python.\n",
    "\n"
   ]
  },
  {
   "cell_type": "code",
   "execution_count": 4,
   "id": "23975ec6-5a17-44cd-8e04-32472bec5e5b",
   "metadata": {
    "tags": []
   },
   "outputs": [
    {
     "data": {
      "text/plain": [
       "17"
      ]
     },
     "execution_count": 4,
     "metadata": {},
     "output_type": "execute_result"
    }
   ],
   "source": [
    "# This is a simple arithmetic expression to multiply 3 by 4 and then add 5\n",
    "result = (3 * 4) + 5\n",
    "result\n"
   ]
  },
  {
   "cell_type": "code",
   "execution_count": 7,
   "id": "075b709f-dd01-4588-be75-682587075206",
   "metadata": {
    "tags": []
   },
   "outputs": [
    {
     "data": {
      "text/plain": [
       "3.3333333333333335"
      ]
     },
     "execution_count": 7,
     "metadata": {},
     "output_type": "execute_result"
    }
   ],
   "source": [
    "# This will convert 200 minutes to hours by dividing by 60 \n",
    "hours = 200 / 60\n",
    "hours\n"
   ]
  },
  {
   "cell_type": "markdown",
   "id": "7716b553-f034-4f6d-95b1-1a9a9def652f",
   "metadata": {},
   "source": [
    "\n",
    "##Author\n",
    "\n",
    "RONNIE "
   ]
  },
  {
   "cell_type": "code",
   "execution_count": null,
   "id": "d49312e3-4c03-4856-bc5f-5fb9ddde7004",
   "metadata": {},
   "outputs": [],
   "source": []
  }
 ],
 "metadata": {
  "kernelspec": {
   "display_name": "Python",
   "language": "python",
   "name": "conda-env-python-py"
  },
  "language_info": {
   "codemirror_mode": {
    "name": "ipython",
    "version": 3
   },
   "file_extension": ".py",
   "mimetype": "text/x-python",
   "name": "python",
   "nbconvert_exporter": "python",
   "pygments_lexer": "ipython3",
   "version": "3.7.12"
  }
 },
 "nbformat": 4,
 "nbformat_minor": 5
}
